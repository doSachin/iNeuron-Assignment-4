{
 "cells": [
  {
   "cell_type": "markdown",
   "id": "b264b4c2",
   "metadata": {},
   "source": [
    "<h1 align=\"center\" ><span style=\"color: blue; font-size: 48px; \"><b> Assignment No. 4</b></span></h1>\n",
    "\n",
    "<h1 style=\"font-family: Trebuchet MS; font-size: 14px; color: #34495E; text-align: right; \">Submitted By: Sachin Dodake</h1>\n",
    "\n",
    "<hr style=\"height:3px;border-width:1;color:blue;background-color:blue\">"
   ]
  },
  {
   "cell_type": "markdown",
   "id": "d351a32f",
   "metadata": {
    "ExecuteTime": {
     "end_time": "2023-05-29T09:08:12.423396Z",
     "start_time": "2023-05-29T09:08:12.403838Z"
    }
   },
   "source": [
    "###  1. What exactly is []?"
   ]
  },
  {
   "cell_type": "markdown",
   "id": "7fdebcc7",
   "metadata": {},
   "source": [
    "**`Ans-1`**\n",
    "\n",
    ">- It is **`Index bracket/square bracket`**([]) and used to represent the LIST in python.\n",
    ">- **`Index bracket/square bracket`**([]) have many uses in Python. First, they are used to define `list literals`, allowing you to `declare a list` and its contents in your program. \n",
    ">-  **`Index bracket/square bracket`** are also used to write expressions that evaluate to a single item within a list, or a single character in a string.\n",
    ">- For `lists` and other mutable sequences (but not strings), you can overwrite a value at a particular index using the assignment operator (=).\n",
    ">- **`Negative numbers`** inside of index brackets cause Python to start counting from the end of the sequence, instead of from the beginning. For example, the expression x[-1] evaluates to the last item of list x, x[-2] evaluates to the second-to-last item of list x, and so forth.\n",
    ">- **`Index bracket/square bracket`** are used to retrieve or set the value for a given key in a dictionary. For example, the expression x[a] evaluates to whatever the value for key a is in dictionary x. The statement x[a] = b will set the value for key a in dictionary x to a new value b (overwriting any existing value).\n",
    ">- Specifying an index beyond the bounds of the sequence raises an **`IndexError exception`**. Attempting to retrieve the value for a key that does not exist in a dictionary raises a **`KeyError exception`**."
   ]
  },
  {
   "cell_type": "markdown",
   "id": "92c5f7c5",
   "metadata": {
    "ExecuteTime": {
     "end_time": "2023-05-29T09:08:12.439438Z",
     "start_time": "2023-05-29T09:08:12.427359Z"
    }
   },
   "source": [
    "###  2. In a list of values stored in a variable called spam, how would you assign the value 'hello' as the third value? (Assume [2, 4, 6, 8, 10] are in spam.)\n"
   ]
  },
  {
   "cell_type": "markdown",
   "id": "94b434f7",
   "metadata": {
    "ExecuteTime": {
     "end_time": "2023-05-29T15:04:50.534171Z",
     "start_time": "2023-05-29T15:04:50.502782Z"
    }
   },
   "source": [
    "**`Ans-2`**"
   ]
  },
  {
   "cell_type": "code",
   "execution_count": 17,
   "id": "4dbcfc47",
   "metadata": {
    "ExecuteTime": {
     "end_time": "2023-05-29T09:47:49.633662Z",
     "start_time": "2023-05-29T09:47:49.623663Z"
    }
   },
   "outputs": [
    {
     "name": "stdout",
     "output_type": "stream",
     "text": [
      "The all elements of list are:   [2, 4, 'Hello', 8, 10]\n",
      "The 3rd elements of list is:    Hello\n"
     ]
    }
   ],
   "source": [
    "# given list is spam\n",
    "spam = [2,4,6,8,10]       # indeces (0,1,2,3,4) , third postion mean 2nd index value\n",
    "\n",
    "spam[2] = \"Hello\"         # assigning 'Hello' value as a third value, i.e. 2nd index value (0,1,2,3,4)\n",
    "\n",
    "print(f\"The all elements of list are:   {spam}\")                   # printing newly created list with replacement \n",
    "print(f\"The 3rd elements of list is:    {spam[2]}\")              # printing 3rd value if list"
   ]
  },
  {
   "cell_type": "markdown",
   "id": "af5771c4",
   "metadata": {
    "ExecuteTime": {
     "end_time": "2023-05-29T09:32:33.658277Z",
     "start_time": "2023-05-29T09:32:33.648196Z"
    }
   },
   "source": [
    "## Let's pretend the spam includes the list ['a', 'b', 'c', 'd'] for the next three queries i.e. Que3, Que4, Que5"
   ]
  },
  {
   "cell_type": "markdown",
   "id": "16eb35d7",
   "metadata": {
    "ExecuteTime": {
     "end_time": "2023-05-29T09:08:12.443352Z",
     "start_time": "2023-05-29T09:08:12.443352Z"
    }
   },
   "source": [
    "###  3. What is the value of spam[int(int('3' * 2) / 11)]?\n"
   ]
  },
  {
   "cell_type": "markdown",
   "id": "f687de1e",
   "metadata": {},
   "source": [
    "**`Ans-3`**\n",
    "\n",
    ">- The value of **`spam[int(int('3' * 2) / 11)]`** will be **`d`** as shown below,"
   ]
  },
  {
   "cell_type": "code",
   "execution_count": 28,
   "id": "fff1f559",
   "metadata": {
    "ExecuteTime": {
     "end_time": "2023-05-29T10:05:24.880685Z",
     "start_time": "2023-05-29T10:05:24.868680Z"
    }
   },
   "outputs": [
    {
     "name": "stdout",
     "output_type": "stream",
     "text": [
      "The expected output is: d\n"
     ]
    }
   ],
   "source": [
    "# the given list is as below\n",
    "\n",
    "spam = ['a', 'b', 'c', 'd']\n",
    "\n",
    "result = spam[int(int('3' * 2) / 11)]                 # saving output in 'result'  variable.\n",
    "\n",
    "print(f\"The expected output is: {result}\")       # printing the result value."
   ]
  },
  {
   "cell_type": "markdown",
   "id": "51e7663b",
   "metadata": {
    "ExecuteTime": {
     "end_time": "2023-05-29T09:08:12.445352Z",
     "start_time": "2023-05-29T09:08:12.445352Z"
    }
   },
   "source": [
    "###  4. What is the value of spam[-1]?"
   ]
  },
  {
   "cell_type": "markdown",
   "id": "3093b4ee",
   "metadata": {
    "ExecuteTime": {
     "end_time": "2023-05-29T10:05:05.606697Z",
     "start_time": "2023-05-29T10:05:05.597174Z"
    }
   },
   "source": [
    "**`Ans-4`**\n",
    "\n",
    ">- The value of **`spam[-1]`** will be **`d`** as shown below,"
   ]
  },
  {
   "cell_type": "code",
   "execution_count": 29,
   "id": "396fc8a6",
   "metadata": {
    "ExecuteTime": {
     "end_time": "2023-05-29T10:05:29.908620Z",
     "start_time": "2023-05-29T10:05:29.900858Z"
    }
   },
   "outputs": [
    {
     "name": "stdout",
     "output_type": "stream",
     "text": [
      "The expected output is: d\n"
     ]
    }
   ],
   "source": [
    "# the given list is as below\n",
    "\n",
    "spam = ['a', 'b', 'c', 'd']\n",
    "\n",
    "result = spam[-1]                 # saving output in 'result'  variable.\n",
    "\n",
    "print(f\"The expected output is: {result}\")       # printing the result value."
   ]
  },
  {
   "cell_type": "markdown",
   "id": "52d6b74d",
   "metadata": {
    "ExecuteTime": {
     "end_time": "2023-05-29T09:08:12.447355Z",
     "start_time": "2023-05-29T09:08:12.447355Z"
    }
   },
   "source": [
    "###  5. What is the value of spam[:2]?"
   ]
  },
  {
   "cell_type": "markdown",
   "id": "a7b711bc",
   "metadata": {
    "ExecuteTime": {
     "end_time": "2023-05-29T10:05:49.434268Z",
     "start_time": "2023-05-29T10:05:49.424362Z"
    }
   },
   "source": [
    "**`Ans-5`**\n",
    "\n",
    ">- The value of **`spam[:2]`** will be **`['a', 'b']`** as shown below,"
   ]
  },
  {
   "cell_type": "code",
   "execution_count": 42,
   "id": "68928e30",
   "metadata": {
    "ExecuteTime": {
     "end_time": "2023-05-29T10:12:25.307752Z",
     "start_time": "2023-05-29T10:12:25.287525Z"
    }
   },
   "outputs": [
    {
     "name": "stdout",
     "output_type": "stream",
     "text": [
      "The expected output is: ['a', 'b']\n"
     ]
    }
   ],
   "source": [
    "# the given list is as below\n",
    "\n",
    "spam = ['a', 'b', 'c', 'd']              # given list-bacon\n",
    "\n",
    "result = spam[:2]                 # saving output in 'result'  variable.\n",
    "\n",
    "print(f\"The expected output is: {result}\")       # printing the result value."
   ]
  },
  {
   "cell_type": "markdown",
   "id": "d5deba11",
   "metadata": {},
   "source": [
    "## Let's pretend bacon has the list [3.14, 'cat,' 11, 'cat,' True] for the next three questions i.e. Que6, Que7, Que8"
   ]
  },
  {
   "cell_type": "markdown",
   "id": "1220c701",
   "metadata": {
    "ExecuteTime": {
     "end_time": "2023-05-29T09:08:12.450363Z",
     "start_time": "2023-05-29T09:08:12.450363Z"
    }
   },
   "source": [
    "###  6. What is the value of bacon.index('cat')?\n"
   ]
  },
  {
   "cell_type": "markdown",
   "id": "e1e74ab4",
   "metadata": {},
   "source": [
    "**`Ans-6`**\n",
    "\n",
    ">- The value of **`bacon.index('cat')`** will be **`1`** as shown below,"
   ]
  },
  {
   "cell_type": "code",
   "execution_count": 49,
   "id": "5fb927a1",
   "metadata": {
    "ExecuteTime": {
     "end_time": "2023-05-29T10:16:09.852755Z",
     "start_time": "2023-05-29T10:16:09.825773Z"
    }
   },
   "outputs": [
    {
     "name": "stdout",
     "output_type": "stream",
     "text": [
      "The expected output is: 1\n"
     ]
    }
   ],
   "source": [
    "# the given list is as below\n",
    "\n",
    "bacon = [3.14, 'cat', 11, 'cat', True]  # given list-bacon\n",
    "\n",
    "output = bacon.index('cat')                 # saving index of 'cat' in output variable\n",
    "\n",
    "print(f\"The expected output is: {output}\")       # printing the result value."
   ]
  },
  {
   "cell_type": "markdown",
   "id": "a0c48bf0",
   "metadata": {
    "ExecuteTime": {
     "end_time": "2023-05-29T09:08:12.452350Z",
     "start_time": "2023-05-29T09:08:12.452350Z"
    }
   },
   "source": [
    "###  7. How does bacon.append(99) change the look of the list value in bacon?"
   ]
  },
  {
   "cell_type": "markdown",
   "id": "005da645",
   "metadata": {},
   "source": [
    "**`Ans-7`**\n",
    "\n",
    ">- The value of **`bacon.append(99)`** will be **`[3.14, 'cat', 11, 'cat', True, 99]`** as shown below,"
   ]
  },
  {
   "cell_type": "code",
   "execution_count": 50,
   "id": "aadc29e5",
   "metadata": {
    "ExecuteTime": {
     "end_time": "2023-05-29T10:16:11.363230Z",
     "start_time": "2023-05-29T10:16:11.342081Z"
    }
   },
   "outputs": [
    {
     "name": "stdout",
     "output_type": "stream",
     "text": [
      "The updated list is: [3.14, 'cat', 11, 'cat', True, 99]\n"
     ]
    }
   ],
   "source": [
    "# the given list is as below\n",
    "\n",
    "bacon = [3.14, 'cat', 11, 'cat', True]      # given list-bacon\n",
    "\n",
    "bacon.append(99)                 # addding new element 99 in existing list-bacon\n",
    "\n",
    "print(f\"The updated list is: {bacon}\")       # printing the new updated list-bacon."
   ]
  },
  {
   "cell_type": "markdown",
   "id": "08b8f310",
   "metadata": {
    "ExecuteTime": {
     "end_time": "2023-05-29T09:08:12.454055Z",
     "start_time": "2023-05-29T09:08:12.454055Z"
    }
   },
   "source": [
    "###  8. How does bacon.remove('cat') change the look of the list in bacon?"
   ]
  },
  {
   "cell_type": "markdown",
   "id": "7a9b34d7",
   "metadata": {},
   "source": [
    "**`Ans-8`**\n",
    "\n",
    ">- The value of **`bacon.remove('cat')`** will be **`[3.14, 11, 'cat', True]`** as shown below,"
   ]
  },
  {
   "cell_type": "code",
   "execution_count": 51,
   "id": "724c8cd7",
   "metadata": {
    "ExecuteTime": {
     "end_time": "2023-05-29T10:16:12.661587Z",
     "start_time": "2023-05-29T10:16:12.639227Z"
    }
   },
   "outputs": [
    {
     "name": "stdout",
     "output_type": "stream",
     "text": [
      "The updated list is: [3.14, 11, 'cat', True]\n"
     ]
    }
   ],
   "source": [
    "# the given list is as below\n",
    "\n",
    "bacon = [3.14, 'cat', 11, 'cat', True]               # given list-bacon\n",
    "\n",
    "bacon.remove('cat')                       # removing  element 'cat' from existing list-bacon\n",
    "\n",
    "print(f\"The updated list is: {bacon}\")       # printing the new updated list-bacon."
   ]
  },
  {
   "cell_type": "markdown",
   "id": "9d28dbf8",
   "metadata": {
    "ExecuteTime": {
     "end_time": "2023-05-29T09:08:12.455064Z",
     "start_time": "2023-05-29T09:08:12.455064Z"
    }
   },
   "source": [
    "###  9. What are the list concatenation and list replication operators?"
   ]
  },
  {
   "cell_type": "markdown",
   "id": "8b07c693",
   "metadata": {
    "ExecuteTime": {
     "end_time": "2023-05-29T10:16:46.769746Z",
     "start_time": "2023-05-29T10:16:46.754652Z"
    }
   },
   "source": [
    "**`Ans-9`**\n",
    "\n",
    "> **`List Concatenation:`**\n",
    ">- **List Concatenation**  is an operation where the elements of one list are added at the end of another list. \n",
    ">-  The list concatenation operator is **`(+)`**\n",
    ">- When **`(+)`** appears between two lists, the expression will be evaluated as a new list that contains the elements from both lists. The elements in the list on the left of + will appear first, and the elements on the right will appear last.\n",
    ">- **`Example:`**"
   ]
  },
  {
   "cell_type": "code",
   "execution_count": 64,
   "id": "b8f53590",
   "metadata": {
    "ExecuteTime": {
     "end_time": "2023-05-29T11:47:21.957588Z",
     "start_time": "2023-05-29T11:47:21.949738Z"
    }
   },
   "outputs": [
    {
     "name": "stdout",
     "output_type": "stream",
     "text": [
      "The new concatenated list is: ['A', 'B', 'C', 1, 2, 3]\n"
     ]
    }
   ],
   "source": [
    "letter_list = ['A', 'B', 'C']\n",
    "number_list = [1, 2, 3]\n",
    "\n",
    "new_list = (letter_list + number_list)\n",
    "\n",
    "print(f\"The new concatenated list is: {new_list}\")"
   ]
  },
  {
   "cell_type": "markdown",
   "id": "0617b8d7",
   "metadata": {
    "ExecuteTime": {
     "end_time": "2023-05-29T10:16:46.769746Z",
     "start_time": "2023-05-29T10:16:46.754652Z"
    }
   },
   "source": [
    "> **`List Replication:`**\n",
    ">- **List Replication**  is an operation where the list repeat a specific number of times.. \n",
    ">-  The list concatenation operator is **`(*)`**\n",
    ">- When **`(*)`** appears between a list and an integer, the expression will be evaluated as a new list that consists of several copies of the original list concatenated together. The number of copies is set by the integer.\n",
    ">- **`Example:`**"
   ]
  },
  {
   "cell_type": "code",
   "execution_count": 67,
   "id": "e8e8aea2",
   "metadata": {
    "ExecuteTime": {
     "end_time": "2023-05-29T11:53:47.128460Z",
     "start_time": "2023-05-29T11:53:47.105272Z"
    }
   },
   "outputs": [
    {
     "name": "stdout",
     "output_type": "stream",
     "text": [
      "The new replicated list is: ['A', 'B', 'A', 'B', 'A', 'B']\n"
     ]
    }
   ],
   "source": [
    "letter_list = ['A', 'B']\n",
    "number  = 3\n",
    "\n",
    "new_list = (letter_list * number)\n",
    "\n",
    "print(f\"The new replicated list is: {new_list}\")"
   ]
  },
  {
   "cell_type": "markdown",
   "id": "6f94a2c3",
   "metadata": {
    "ExecuteTime": {
     "end_time": "2023-05-29T09:08:12.456076Z",
     "start_time": "2023-05-29T09:08:12.456076Z"
    }
   },
   "source": [
    "###  10. What is difference between the list methods append() and insert()?"
   ]
  },
  {
   "cell_type": "markdown",
   "id": "342b7b65",
   "metadata": {
    "ExecuteTime": {
     "end_time": "2023-05-29T12:03:14.447707Z",
     "start_time": "2023-05-29T12:03:14.431754Z"
    }
   },
   "source": [
    "**`Ans-10`**\n",
    "\n",
    "> **`Difference Between append() and insert():`**\n",
    ">- The difference between the two methods is that .append() adds an item to the end of a list, whereas .insert() inserts and item in a specified position in the list.\n",
    ">- **Example:**"
   ]
  },
  {
   "cell_type": "markdown",
   "id": "1749e3f8",
   "metadata": {},
   "source": [
    "> **`append():`**\n",
    ">- It adds an element at the end of the list. The argument passed in the append function is added as a single element at end of the list and the length of the list is increased by 1.\n",
    ">- **Syntax:**\n",
    "            list_name.append(element)\n",
    ">- **Example:**"
   ]
  },
  {
   "cell_type": "code",
   "execution_count": 71,
   "id": "6bcc9d76",
   "metadata": {
    "ExecuteTime": {
     "end_time": "2023-05-29T12:03:21.834989Z",
     "start_time": "2023-05-29T12:03:21.818948Z"
    }
   },
   "outputs": [
    {
     "name": "stdout",
     "output_type": "stream",
     "text": [
      "['apple', 'banana', 'cherry', ['Ford', 'BMW', 'Volvo']]\n"
     ]
    }
   ],
   "source": [
    "a = [\"apple\", \"banana\", \"cherry\"]   # defining first list\n",
    "b = [\"Ford\", \"BMW\", \"Volvo\"]\n",
    "a.append(b)\n",
    "\n",
    "print(a)"
   ]
  },
  {
   "cell_type": "markdown",
   "id": "f3e6f109",
   "metadata": {},
   "source": [
    "> **`insert():`**\n",
    ">- Python List insert() method inserts a given element at a given index in a list using Python. \n",
    ">- **Syntax:**\n",
    "            list.insert(position, element)  \n",
    "                        # position-position where we wants to insert new element\n",
    "                        # element-element which we wants to insert in old list.\n",
    ">- **Example:**"
   ]
  },
  {
   "cell_type": "code",
   "execution_count": 72,
   "id": "adaba069",
   "metadata": {
    "ExecuteTime": {
     "end_time": "2023-05-29T12:03:52.500141Z",
     "start_time": "2023-05-29T12:03:52.484521Z"
    }
   },
   "outputs": [
    {
     "name": "stdout",
     "output_type": "stream",
     "text": [
      "['apple', 'orange', 'banana', 'cherry']\n"
     ]
    }
   ],
   "source": [
    "fruits = ['apple', 'banana', 'cherry']\n",
    "\n",
    "fruits.insert(1, \"orange\")\n",
    "\n",
    "print(fruits)"
   ]
  },
  {
   "cell_type": "markdown",
   "id": "fd516d95",
   "metadata": {
    "ExecuteTime": {
     "end_time": "2023-05-29T09:08:12.458075Z",
     "start_time": "2023-05-29T09:08:12.458075Z"
    }
   },
   "source": [
    "###  11. What are the two methods for removing items from a list?"
   ]
  },
  {
   "cell_type": "markdown",
   "id": "1bf0b189",
   "metadata": {},
   "source": [
    "**`Ans-11`**\n",
    "\n",
    ">- Python `List data-type` helps you to store items of different data types in an `ordered sequence`. The data is written inside `square brackets ([])`, and the values are separated by `comma(,)`.\n",
    ">- In Python, there are many methods available to `remove` an element from a given list. \n",
    "        i) remove(), \n",
    "        ii) pop(),\n",
    "        iii) clear() .\n",
    ">- Besides the list methods, you can also use a del keyword to remove items from a list.\n",
    "\n",
    "> **`i) remove():`**\n",
    ">- Python removes () method is a built-in method available with the list. It helps to remove the given very first element matching from the list.\n",
    ">- **Syntax:**\n",
    "            list.remove(element)\n",
    ">- **ReturnValue:**\n",
    "            There is no return value for this method.\n",
    "            \n",
    "> **`ii) pop():`**\n",
    ">- The pop() method removes an element from the list based on the index given.\n",
    ">- **Syntax:**\n",
    "            list.pop(index)\n",
    ">- **ReturnValue:**\n",
    "            The pop() method will return the element removed based on the index given. The final list is also updated and will not have the element.\n",
    "\n",
    "> **`iii) clear():`**\n",
    ">- The clear() method will remove all the elements present in the list.\n",
    ">- **Syntax:**\n",
    "            list.clear()\n",
    ">- **ReturnValue:**\n",
    "            Ther is no return value. The list() is emptied using clear() method."
   ]
  },
  {
   "cell_type": "code",
   "execution_count": 76,
   "id": "e6f7640e",
   "metadata": {
    "ExecuteTime": {
     "end_time": "2023-05-29T13:30:47.427467Z",
     "start_time": "2023-05-29T13:30:47.400978Z"
    }
   },
   "outputs": [
    {
     "name": "stdout",
     "output_type": "stream",
     "text": [
      "The updated name list is: ['Siya', 'Tiya', 'Riya', 'Shyam']\n",
      "\n",
      "The updated number list is: [0, 1, 2, 3, 4, 6, 7, 8, 9, 10]\n",
      "\n",
      "The updated city list is: []\n"
     ]
    }
   ],
   "source": [
    "# combine  example on remove(), pop(), clear() methods to remove elements from list\n",
    "\n",
    "list_name = ['Siya', 'Tiya',  'Riya', 'Shyam', 'INDIA']                          # defining name list\n",
    "list_num = [0,1,2,3,4,5,6,7,8,9,10]                                                        # defining number list\n",
    "list_city = [['Pune', 'Delhi',  'Jaipur', 'Nagpur', 'Nashik'] ]             # defining city list\n",
    "\n",
    "list_name.remove('INDIA')        # applying remove ()method to remove element \"INDIA\"\n",
    "list_num.pop(5)                            # applying pop() method to remove 5th element  ie 5\n",
    "list_city.clear()                                # applying clear() method to remove all elements\n",
    "\n",
    "print(f\"The updated name list is: {list_name}\")               # it will print list_name without element 'INDIA'\n",
    "print(f\"\\nThe updated number list is: {list_num}\")      # it will print list_num without 5th index element '5'\n",
    "print(f\"\\nThe updated city list is: {list_city}\")                 # it will print list_city without elements  i.e. empty list"
   ]
  },
  {
   "cell_type": "markdown",
   "id": "b3f6e521",
   "metadata": {
    "ExecuteTime": {
     "end_time": "2023-05-29T09:08:12.459075Z",
     "start_time": "2023-05-29T09:08:12.459075Z"
    }
   },
   "source": [
    "###  12. Describe how `list values` and `string values` are identical."
   ]
  },
  {
   "cell_type": "markdown",
   "id": "aa9b450d",
   "metadata": {
    "ExecuteTime": {
     "end_time": "2023-05-29T10:17:55.435735Z",
     "start_time": "2023-05-29T10:17:55.421295Z"
    }
   },
   "source": [
    "**`Ans-12`**\n",
    "\n",
    ">-  The similarity between `Lists Values` and `Strings Values` in Python is that both are sequences. The differences between them are that firstly, Lists are mutable but Strings are immutable. Secondly, elements of a list can be of different types whereas a String only contains characters that are all of String type.\n",
    ">- A `string` is a `sequence of characters` between single or double quotes. A `list` is a `sequence of items`, where each item could be anything (an integer, a float, a string, etc).\n",
    ">- Both `strings` and `lists` have lengths: a string's length is the number of characters in the string; a list's length is the number of items in the list.\n",
    ">- Each character in a `string` as well as each item in a `list` has a `position`, also called an **index**. In python, positions start at 0, so the \"H\" in the string = 'Hello' is at position 0, and the \"o\" is at position 4.\n",
    ">- Any sequence in python can be used in a for loop. For `strings`, we can either loop over characters in the string or indices (0 to len(S)-1). For `lists`, we can either loop over items in the list or indices.\n",
    ">- We can use the `accumulator pattern` (increament/decreament) to grow/create both a `string` and a `list`."
   ]
  },
  {
   "cell_type": "markdown",
   "id": "ffada3e4",
   "metadata": {
    "ExecuteTime": {
     "end_time": "2023-05-29T09:08:12.462065Z",
     "start_time": "2023-05-29T09:08:12.462065Z"
    }
   },
   "source": [
    "###  13. What's the difference between `tuples and lists`?"
   ]
  },
  {
   "cell_type": "markdown",
   "id": "96d2d6a7",
   "metadata": {
    "ExecuteTime": {
     "end_time": "2023-05-29T10:18:27.830313Z",
     "start_time": "2023-05-29T10:18:27.820864Z"
    }
   },
   "source": [
    "**`Ans-13`**\n",
    "\n",
    "> **`Lists:`**\n",
    ">- List are mutable\n",
    ">- Iterations are time-consuming.\n",
    ">- Inserting and deleting items is easier with a list.\n",
    ">- Lists consume more memory.\n",
    ">- Lists have several built-in methods.\n",
    ">- A unexpected change or error is more likely to occur in a list.\n",
    "\n",
    "> **`Tuples:`**\n",
    ">- Tuples are immutable.\n",
    ">- Iterations are comparatively Faster\n",
    ">- Accessing the elements is best accomplished with a tuple data type.\n",
    ">- Tuple consumes less than the list.\n",
    ">- A tuple does not have many built-in methods because of immutability.\n",
    ">- In a tuple, changes and errors don't usually occur because of immutability.\n",
    "\n"
   ]
  },
  {
   "cell_type": "markdown",
   "id": "d78a8493",
   "metadata": {
    "ExecuteTime": {
     "end_time": "2023-05-29T09:08:12.464518Z",
     "start_time": "2023-05-29T09:08:12.464518Z"
    }
   },
   "source": [
    "###  14. How do you type a `tuple value` that only contains the integer 42?"
   ]
  },
  {
   "cell_type": "markdown",
   "id": "07695d89",
   "metadata": {
    "ExecuteTime": {
     "end_time": "2023-05-29T13:46:01.392928Z",
     "start_time": "2023-05-29T13:46:01.381851Z"
    }
   },
   "source": [
    "**`Ans-14`**\n",
    "\n",
    ">- The tuple value that contains only integer 42 can be written as below,"
   ]
  },
  {
   "cell_type": "code",
   "execution_count": 80,
   "id": "dd3b5830",
   "metadata": {
    "ExecuteTime": {
     "end_time": "2023-05-29T13:46:45.831479Z",
     "start_time": "2023-05-29T13:46:45.812482Z"
    }
   },
   "outputs": [
    {
     "name": "stdout",
     "output_type": "stream",
     "text": [
      "The tuple value is : (42,)\n"
     ]
    }
   ],
   "source": [
    "tuple = (42,)\n",
    "\n",
    "print(f\"The tuple value is : {tuple}\")"
   ]
  },
  {
   "cell_type": "markdown",
   "id": "013904b3",
   "metadata": {
    "ExecuteTime": {
     "end_time": "2023-05-29T09:08:12.465944Z",
     "start_time": "2023-05-29T09:08:12.465944Z"
    }
   },
   "source": [
    "###  15. How do you get a `list value's` `tuple form`? How do you get a `tuple value's` `list form`?"
   ]
  },
  {
   "cell_type": "markdown",
   "id": "d5aebd5e",
   "metadata": {
    "ExecuteTime": {
     "end_time": "2023-05-29T13:49:48.964391Z",
     "start_time": "2023-05-29T13:49:48.951440Z"
    }
   },
   "source": [
    "**`Ans-15`**\n",
    "\n",
    "**`List-to-Tuple Conversion:`**\n",
    ">- The three most common methods to convert `list-values` into `tuple-form` are listed below:\n",
    "            i) Using tuple() builtin function,\n",
    "            ii) Using loop inside the tuple,\n",
    "            iii) Unpack list inside the parenthesis.\n",
    "            \n",
    "> **`i) Using tuple() builtin function:`**\n",
    ">- Python's built-in functions **`tuple()`**  is one of the way to convert `list-values` to `tuple-values`. \n",
    ">- This `tuple ()` function can take any iterable as an argument and convert it into a tuple object. \n",
    ">- If we wants to convert a python `list to a tuple`, we can pass the `entire list` as a parameter within the tuple() function, and it will return the tuple data type as an output.\n",
    "\n",
    "> **`ii) Using loop inside the tuple:`**\n",
    ">- This method is a small variation of the above-given approach. \n",
    ">- You can use a `loop` inside the built-in function `tuple()` to convert a python list into a tuple object. \n",
    ">- However, it is the least used method for type conversion in comparison to others.\n",
    "\n",
    "> **`iii) Unpack list inside the parenthesis:`**\n",
    ">- To convert a list to a tuple in python programming, you can unpack the list elements inside the parenthesis. \n",
    ">- Here, the list essentially unpacks the elements inside the tuple literal, which is created by the presence of a single comma(,). \n",
    ">- However, this method is faster in comparison to others, but it suffers from readability which is not efficient enough."
   ]
  },
  {
   "cell_type": "code",
   "execution_count": 3,
   "id": "79e5c823",
   "metadata": {
    "ExecuteTime": {
     "end_time": "2023-05-29T14:47:22.101351Z",
     "start_time": "2023-05-29T14:47:22.077539Z"
    }
   },
   "outputs": [
    {
     "name": "stdout",
     "output_type": "stream",
     "text": [
      "The tuple form using 1st method: ('iPHONE', 'NOKIA', 'SAMSUNG')\n",
      "The tuple type using 1st method: <class 'tuple'>\n",
      "\n",
      "The tuple form using 2nd method: ('iPHONE', 'NOKIA', 'SAMSUNG')\n",
      "The tuple type using 2nd method: <class 'tuple'>\n",
      "\n",
      "The tuple form using 3rd method: ('iPHONE', 'NOKIA', 'SAMSUNG')\n",
      "The tuple type using 3rd method: <class 'tuple'>\n"
     ]
    }
   ],
   "source": [
    "list_mobile = ['iPHONE', 'NOKIA', 'SAMSUNG']\n",
    "\n",
    "#convert list into tuple\n",
    "tuple1 = tuple(list_mobile)\n",
    "print(f\"The tuple form using 1st method: {tuple1}\")\n",
    "print(f\"The tuple type using 1st method: {type(tuple1)}\")\n",
    "\n",
    "# Using loop inside the tuple\n",
    "tuple2 = tuple(i for i in list_mobile)\n",
    "print(f\"\\nThe tuple form using 2nd method: {tuple2}\")\n",
    "print(f\"The tuple type using 2nd method: {type(tuple2)}\")\n",
    "\n",
    "#unpack list items and form tuple\n",
    "tuple3 = (*list_mobile,)\n",
    "print(f\"\\nThe tuple form using 3rd method: {tuple3}\")\n",
    "print(f\"The tuple type using 3rd method: {type(tuple3)}\")"
   ]
  },
  {
   "cell_type": "markdown",
   "id": "900be3dc",
   "metadata": {
    "ExecuteTime": {
     "end_time": "2023-05-29T13:49:48.964391Z",
     "start_time": "2023-05-29T13:49:48.951440Z"
    }
   },
   "source": [
    "**`Tuple-to-List Conversion:`**\n",
    "\n",
    ">- The three most common methods to convert `tuple-values` into `list-form` are listed below:\n",
    "            i) Using list() builtin function,\n",
    "            ii) Using loop inside the tuple\n",
    "            iii) Using * Unpacking Method,\n",
    "         \n",
    "> **`i) Using list() builtin function: `**\n",
    ">- You can convert a tuple to a list using the list() function. \n",
    ">- The list() function is a built-in function in Python that takes any iterable object as an argument and returns a new list object containing the same elements as the iterable object.\n",
    "\n",
    "> **`ii) Using loop inside the tuple:`**\n",
    ">- This method is a small variation of the above-given approach. \n",
    ">- You can use a `loop` inside the built-in function `tuple()` to convert a python list into a tuple object. \n",
    ">- However, it is the least used method for type conversion in comparison to others.\n",
    "\n",
    "> **`iii) Using * Unpacking Method: `**\n",
    ">- You can use unpack a tuple and assign its elements to a list by enclosing the tuple in square brackets [] and separating the elements with commas.\n"
   ]
  },
  {
   "cell_type": "code",
   "execution_count": 6,
   "id": "adfbd75f",
   "metadata": {
    "ExecuteTime": {
     "end_time": "2023-05-29T14:55:11.743348Z",
     "start_time": "2023-05-29T14:55:11.721996Z"
    }
   },
   "outputs": [
    {
     "name": "stdout",
     "output_type": "stream",
     "text": [
      "The list form using 1st method: ['Dell', 'HP', 'Lenovo']\n",
      "The list type using 1st method: <class 'list'>\n",
      "\n",
      "The list form using 2nd method: ['Dell', 'HP', 'Lenovo']\n",
      "The list type using 2nd method: <class 'list'>\n",
      "\n",
      "The list form using 3rd method: ('Dell', 'HP', 'Lenovo')\n",
      "The list type using 3rd method: <class 'tuple'>\n"
     ]
    }
   ],
   "source": [
    "tuple_laptop = ['Dell', 'HP', 'Lenovo']\n",
    "\n",
    "#convert list into tuple\n",
    "list_1 = list(tuple_laptop)\n",
    "print(f\"The list form using 1st method: {list_1}\")\n",
    "print(f\"The list type using 1st method: {type(list_1)}\")\n",
    "\n",
    "# Using loop inside the tuple\n",
    "list_2 = list(i for i in tuple_laptop)\n",
    "print(f\"\\nThe list form using 2nd method: {list_2}\")\n",
    "print(f\"The list type using 2nd method: {type(list_2)}\")\n",
    "\n",
    "#unpack list items and form tuple\n",
    "list_3 = (*tuple_laptop,)\n",
    "print(f\"\\nThe list form using 3rd method: {list_3}\")\n",
    "print(f\"The list type using 3rd method: {type(list_3)}\")"
   ]
  },
  {
   "cell_type": "markdown",
   "id": "fb7a027d",
   "metadata": {
    "ExecuteTime": {
     "end_time": "2023-05-29T09:08:12.468194Z",
     "start_time": "2023-05-29T09:08:12.468194Z"
    }
   },
   "source": [
    "###  16. Variables that \"contain\" list values are not necessarily lists themselves. Instead, what do they contain?"
   ]
  },
  {
   "cell_type": "markdown",
   "id": "f2bb02cf",
   "metadata": {},
   "source": [
    "**`Ans-16`**\n",
    "\n",
    ">- Variables will contain references to list values rather than list values themselves. But for strings and integer values, variables simply contain the string or integer value.\n",
    ">- Python uses references whenever variables must store values of mutable data types, such as lists or dictionaries. For values of immutable data types such as strings, integers, or tuples, Python variables will store the value itself.\n",
    ">- Although Python variables technically contain references to list or dictionary values, people often casually say that the variable contains the list or dictionary."
   ]
  },
  {
   "cell_type": "markdown",
   "id": "e8a1b7e5",
   "metadata": {
    "ExecuteTime": {
     "end_time": "2023-05-29T09:08:12.469208Z",
     "start_time": "2023-05-29T09:08:12.469208Z"
    }
   },
   "source": [
    "###  17. How do you distinguish between copy.copy() and copy.deepcopy()?"
   ]
  },
  {
   "cell_type": "markdown",
   "id": "9dfdb447",
   "metadata": {},
   "source": [
    "**`Ans-17`**\n",
    "\n",
    "> **`copy.copy()/shallow copy:`**\n",
    ">- It is the copy of the collection structure, not the elements.\n",
    ">- Affects the initial dataframe.\n",
    ">- Shallow copy doesn’t replicate child objects.\n",
    ">- Creating a shallow copy is fast as compared to deep copy.\n",
    ">- The copy is dependent on the original\n",
    "\n",
    "\n",
    "> **`copy.deepcopy()/deep copy:`**\n",
    ">- It is the copy of the collections with all the elements in the original collection duplicated.\n",
    ">- Does not affect the initial dataframe.\n",
    ">- Deep copy replicates child objects recursively.\n",
    ">- Creating a deep copy is slow as compare to shallow copy.\n",
    ">- The copy is not fully dependent on the original."
   ]
  },
  {
   "cell_type": "code",
   "execution_count": null,
   "id": "1be40e89",
   "metadata": {},
   "outputs": [],
   "source": []
  }
 ],
 "metadata": {
  "hide_input": false,
  "kernelspec": {
   "display_name": "Python 3 (ipykernel)",
   "language": "python",
   "name": "python3"
  },
  "language_info": {
   "codemirror_mode": {
    "name": "ipython",
    "version": 3
   },
   "file_extension": ".py",
   "mimetype": "text/x-python",
   "name": "python",
   "nbconvert_exporter": "python",
   "pygments_lexer": "ipython3",
   "version": "3.10.9"
  },
  "varInspector": {
   "cols": {
    "lenName": 16,
    "lenType": 16,
    "lenVar": 40
   },
   "kernels_config": {
    "python": {
     "delete_cmd_postfix": "",
     "delete_cmd_prefix": "del ",
     "library": "var_list.py",
     "varRefreshCmd": "print(var_dic_list())"
    },
    "r": {
     "delete_cmd_postfix": ") ",
     "delete_cmd_prefix": "rm(",
     "library": "var_list.r",
     "varRefreshCmd": "cat(var_dic_list()) "
    }
   },
   "types_to_exclude": [
    "module",
    "function",
    "builtin_function_or_method",
    "instance",
    "_Feature"
   ],
   "window_display": false
  }
 },
 "nbformat": 4,
 "nbformat_minor": 5
}
